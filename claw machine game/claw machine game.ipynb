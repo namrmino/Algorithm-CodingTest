{
  "nbformat": 4,
  "nbformat_minor": 0,
  "metadata": {
    "colab": {
      "name": "크레인인형뽑기게임",
      "provenance": [],
      "collapsed_sections": [],
      "authorship_tag": "ABX9TyNyKN0OjOohsi75gFNGDFAF"
    },
    "kernelspec": {
      "name": "python3",
      "display_name": "Python 3"
    },
    "language_info": {
      "name": "python"
    }
  },
  "cells": [
    {
      "cell_type": "code",
      "metadata": {
        "id": "3mVCuOSffbuh"
      },
      "source": [
        "import numpy as np\n",
        "import pandas as pd"
      ],
      "execution_count": 195,
      "outputs": []
    },
    {
      "cell_type": "code",
      "metadata": {
        "colab": {
          "base_uri": "https://localhost:8080/"
        },
        "id": "3aLBXJGw4Cn2",
        "outputId": "0c9e19c4-f030-4a82-c399-fb9a4462617c"
      },
      "source": [
        "board = [[0,0,0,0,0],[0,0,1,0,3],[0,2,5,0,1],[4,2,4,4,2],[3,5,1,3,1]]\n",
        "moves = [1,5,3,5,1,2,1,4]\n",
        "board"
      ],
      "execution_count": 225,
      "outputs": [
        {
          "output_type": "execute_result",
          "data": {
            "text/plain": [
              "[[0, 0, 0, 0, 0],\n",
              " [0, 0, 1, 0, 3],\n",
              " [0, 2, 5, 0, 1],\n",
              " [4, 2, 4, 4, 2],\n",
              " [3, 5, 1, 3, 1]]"
            ]
          },
          "metadata": {
            "tags": []
          },
          "execution_count": 225
        }
      ]
    },
    {
      "cell_type": "code",
      "metadata": {
        "colab": {
          "base_uri": "https://localhost:8080/"
        },
        "id": "jQwm_EUAiJrU",
        "outputId": "2c2c9bb4-792d-4941-ceda-8c731de6663a"
      },
      "source": [
        "board_t = np.array(board).T.tolist()\n",
        "board_t"
      ],
      "execution_count": 226,
      "outputs": [
        {
          "output_type": "execute_result",
          "data": {
            "text/plain": [
              "[[0, 0, 0, 4, 3],\n",
              " [0, 0, 2, 2, 5],\n",
              " [0, 1, 5, 4, 1],\n",
              " [0, 0, 0, 4, 3],\n",
              " [0, 3, 1, 2, 1]]"
            ]
          },
          "metadata": {
            "tags": []
          },
          "execution_count": 226
        }
      ]
    },
    {
      "cell_type": "code",
      "metadata": {
        "colab": {
          "base_uri": "https://localhost:8080/"
        },
        "id": "sDFoTtXDiRg9",
        "outputId": "37b12d99-c9be-4a0f-aebd-3836d90b3e8f"
      },
      "source": [
        "for i in board_t:\n",
        "    while 0 in i:\n",
        "      if any(i)==False:\n",
        "        i.remove(0)\n",
        "        i.append(0)\n",
        "      else:\n",
        "        i.remove(0)\n",
        "\n",
        "board_t"
      ],
      "execution_count": 227,
      "outputs": [
        {
          "output_type": "execute_result",
          "data": {
            "text/plain": [
              "[[4, 3], [2, 2, 5], [1, 5, 4, 1], [4, 3], [3, 1, 2, 1]]"
            ]
          },
          "metadata": {
            "tags": []
          },
          "execution_count": 227
        }
      ]
    },
    {
      "cell_type": "code",
      "metadata": {
        "colab": {
          "base_uri": "https://localhost:8080/"
        },
        "id": "befWI4_PiY2z",
        "outputId": "bd42f251-66ba-4abd-fffd-36d3098fc273"
      },
      "source": [
        "result = []\n",
        "for i in moves:\n",
        "  result.append(board_t[i-1][0])\n",
        "  board_t[i-1] = board_t[i-1][1:]\n",
        "  if board_t[i-1] == []:\n",
        "    board_t[i-1].append(0)\n",
        "  \n",
        "result"
      ],
      "execution_count": 228,
      "outputs": [
        {
          "output_type": "execute_result",
          "data": {
            "text/plain": [
              "[4, 3, 1, 1, 3, 2, 0, 4]"
            ]
          },
          "metadata": {
            "tags": []
          },
          "execution_count": 228
        }
      ]
    },
    {
      "cell_type": "code",
      "metadata": {
        "id": "GsOcbsgpcEaF"
      },
      "source": [
        "def solution(board, moves):\n",
        "  \n",
        "  board_t = np.array(board).T.tolist()\n",
        "\n",
        "  for i in board_t:\n",
        "    while 0 in i:\n",
        "      if any(i)==False:\n",
        "        i.remove(0)\n",
        "        i.append(0)\n",
        "      else:\n",
        "        i.remove(0)\n",
        "\n",
        "  result = []\n",
        "  for i in moves:\n",
        "    result.append(board_t[i-1][0])\n",
        "    board_t[i-1] = board_t[i-1][1:]\n",
        "    if board_t[i-1] == []:\n",
        "      board_t[i-1].append(0)\n",
        "  \n",
        "  result.remove(0)\n",
        "\n",
        "  count = 0\n",
        "  while True:\n",
        "    break_var = 0\n",
        "    for i in range(len(result)-1):\n",
        "      if result[i] == result[i+1]:\n",
        "        del result[i:i+2]\n",
        "        count += 2\n",
        "        break\n",
        "\n",
        "      if i+1 == len(result)-1:\n",
        "        break_var = 1\n",
        "\n",
        "    if break_var == 1:\n",
        "      return count"
      ],
      "execution_count": 233,
      "outputs": []
    },
    {
      "cell_type": "code",
      "metadata": {
        "colab": {
          "base_uri": "https://localhost:8080/"
        },
        "id": "YpQmGorWcEkE",
        "outputId": "396d569b-6b36-438c-b8a6-0ea074613fa5"
      },
      "source": [
        "solution(board, moves)"
      ],
      "execution_count": 234,
      "outputs": [
        {
          "output_type": "execute_result",
          "data": {
            "text/plain": [
              "4"
            ]
          },
          "metadata": {
            "tags": []
          },
          "execution_count": 234
        }
      ]
    },
    {
      "cell_type": "code",
      "metadata": {
        "id": "RC5MgnrtW7-v"
      },
      "source": [
        ""
      ],
      "execution_count": null,
      "outputs": []
    }
  ]
}
